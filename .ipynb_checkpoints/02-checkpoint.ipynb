{
 "cells": [
  {
   "cell_type": "markdown",
   "id": "9706a55b-147f-4f54-b5a9-4ef4a67756ce",
   "metadata": {},
   "source": [
    "# 02 Llenado automático de archivos desde una base de datos con python"
   ]
  },
  {
   "cell_type": "markdown",
   "id": "03fc7f3e-c3f7-477e-bbd4-19e1d112f07c",
   "metadata": {},
   "source": [
    "Alejandro Villegas"
   ]
  },
  {
   "cell_type": "markdown",
   "id": "0bbcd7db-20ce-4028-95b6-14897a58305b",
   "metadata": {},
   "source": [
    "2025-05-16"
   ]
  },
  {
   "cell_type": "markdown",
   "id": "8acb1c0c-5421-48a1-acc0-fac3d9af541c",
   "metadata": {},
   "source": [
    "Esta proyecto/demostración está realizado en lenguaje Python. Para su construcción se utilizó el entorno de desarrollo Spyder. Para la cosntrucción de este documento explicativo se utilizó el entorno de desarrollo Jupyter y formato Markdown.\n",
    "\n",
    "En el repositorio de github de este proyecto encontrarás, los insumos y el código y los productos del código aquí explicados. Esto para facilitar su reproductibilidad."
   ]
  },
  {
   "cell_type": "markdown",
   "id": "f50ac00c-a311-4156-8888-a4c29b82ce64",
   "metadata": {},
   "source": [
    "# Problema a resolver\n",
    "\n",
    "Puede darse el caso en el cual, tenemos que rellenar un ciertos datos en un gran número de documentos. Y ocurre que los datos con los cuales tenemos que llenar se encuentran en un documento excel. Naturalmente, podriamos llenar uno por uno los documentos, sin embargo, cuando el número de documentos es muy grande, esto nos puede llevar mucho tiempo y esfuerzo. Por fortuna, vivimos en una época en la cual podemos utilizar las posibilidades que ofrece Python para solucionar el problema.\n",
    "\n",
    "Para este ejercicio, supondré soy el supervisor de varios colegios, y que debo crear examenes personalizados para cada uno de los alumnos bajo mi cargo. Para ello, cada uno de los examenes deberá contener el nombre, los apellidos, el número de plantel, el número de grupo, el turno en el que el alumno asiste a la escuela, la edad y el género del alumno.\n",
    "\n",
    "En este ejercicio, se planteó una situación donde se requrían examenes, sin embargo, haya otros ámbitos donde esto puede ser útil, como por ejemplo, para formularios de beneficiarios, o similares.\n",
    "\n",
    "# Insumos.\n",
    "\n",
    "Para llevar a cabo este ejercicio presupondrémos que contamos con los siguientes insumos:\n",
    "\n",
    "-   Una base de datos que contenga los datos de cada uno de los alumnos.\n",
    "\n",
    "-   Una plantilla del examen (o del documento) que se va a llenar en formato word.\n",
    "\n",
    "Los insumos que se utilizaron en este ejercicio se encuentran en el repositorio de github: LINK\n",
    "\n",
    "# Metodología.\n",
    "\n",
    "# Paso 1: Preparación de la base de datos\n",
    "\n",
    "En este punto se presupone que se tiene una base de datos limpia, que conserva solo las columnas de los datos que nos interesan. Así pues, procedeos a cargar la base, y nos quedaría algo como lo siguiente:"
   ]
  },
  {
   "cell_type": "code",
   "execution_count": 2,
   "id": "a2926979-3605-46f6-aa72-a7a89ca4e4a1",
   "metadata": {},
   "outputs": [
    {
     "name": "stdout",
     "output_type": "stream",
     "text": [
      "               name         lastname  profesor  \\\n",
      "0             Bruno  Resendiz Mateos         1   \n",
      "1  Cristian Eduardo  Joaquin Petaton         1   \n",
      "2   Daniela Yoselin   Ortiz Gonzalez         1   \n",
      "3    Jessica Noelia     Sanchez Lili         1   \n",
      "4             Erick   Reyes Gonzalez         1   \n",
      "\n",
      "  Turno al que acudes a la escuela:  ¿Qué edad tienes?    ¿Cuál es tu género?  \n",
      "0                          Matutino               17.0  Prefiero no responder  \n",
      "1                          Matutino                NaN              Masculino  \n",
      "2                          Matutino               19.0               Femenino  \n",
      "3                          Matutino               17.0               Femenino  \n",
      "4                          Matutino               17.0              Masculino  \n"
     ]
    }
   ],
   "source": [
    "import pandas as pd\n",
    "base = pd.read_csv(r\"C:\\Users\\javal\\OneDrive\\Desktop\\Portafolio 9\\02_llenado_automático_documentos\\base.csv\")\n",
    "print(base.head())"
   ]
  },
  {
   "cell_type": "markdown",
   "id": "8cbb3661-dc42-42d8-88ea-f19adab96362",
   "metadata": {},
   "source": [
    "# Paso 2: Preparación de la plantilla.\n",
    "\n",
    "Esta metodología presupone que el usuario ya tiene lista la plantilla que servirá de base para ser llenada. En este caso el examen. Así pues, lo primero que se debe de hacer es llenar los datos que se van a sustituir en cada documento individual, con un indicador. El indicador se caracteriza por ir entre una doble llave {{}}.\n",
    "\n",
    "Algo de **vital importancia** es que los nombres de las columnas de la base de datos, debe de coincidir con los nombres de los indicadores, es decir con lo que va entre la doble llave. Por ejemplo, el dato de nombre del alumno, el naame coincide en el indicador y en la columna de la base de datos que muestra los nombres.\n",
    "\n",
    "Así pues, la plantilla debería quedar como lo siguiente: \n",
    " plantilla."
   ]
  },
  {
   "cell_type": "markdown",
   "id": "f566f51f-9f86-4b64-b24b-3cc4e670c97d",
   "metadata": {},
   "source": [
    "<div style=\"text-align: center;\">\r\n",
    "  <p><strong>Imagen 1: Plantilla</strong></p>\r\n",
    "  <img src=\"imagenes/01_plantilla.png\" width=\"70%\">\r\n",
    "  <p><em>Fuente: Elaboración propia</em></p>\r\n",
    "</div>\r\n"
   ]
  },
  {
   "cell_type": "markdown",
   "id": "ec05e1a2-6391-486d-805c-a5973f41c9f3",
   "metadata": {},
   "source": [
    "Finalmente, establecemos un objeto que contendrá el *string* con la ruta del documento de word que contiene la plantilla."
   ]
  },
  {
   "cell_type": "code",
   "execution_count": 23,
   "id": "739d5bcf-4fc0-49c6-bd19-75a77936fa74",
   "metadata": {},
   "outputs": [
    {
     "name": "stdout",
     "output_type": "stream",
     "text": [
      "C:\\Users\\javal\\OneDrive\\Desktop\\Portafolio 9\\02_llenado_automático_documentos\\examen.docx\n"
     ]
    }
   ],
   "source": [
    "plantilla = r\"C:\\Users\\javal\\OneDrive\\Desktop\\Portafolio 9\\02_llenado_automático_documentos\\examen.docx\"\n",
    "print(plantilla)"
   ]
  },
  {
   "cell_type": "markdown",
   "id": "414acdec-e9d3-4603-9315-d60e6fe31ac6",
   "metadata": {},
   "source": [
    "# Paso 3: Lista única de grupos (número de profesores)\n",
    "\n",
    "Como tenemos distintos grupos, y cada grupo se identifica por el número del profesor, entonces conviene agrupar los exaamenes por grupo. Esto es así porque los examenes se aplicarán a todos los alumnos de un grupo al mismmo tiempo. Entonces para llevar un control e imprimir los examenes de manera adecuada, necesitamos crear dos cosas. La primeraa de ellas es un examen individual con los datos de los alumnos, y la segunda es un archivo que junte todos los examenes individuales de un solo grupo.\r\n",
    "\r\n",
    "El primer paso para lograr esto, es hacer una lista con los valores únicos de los datos que identifican a cada grupo, en este caso, son los datos de los profesore Antes de crear la lista, transformamos el tipo de dato de la columna profesores de numérico a *string*s.\n"
   ]
  },
  {
   "cell_type": "code",
   "execution_count": 7,
   "id": "190b39d2-4854-403e-a918-26c983c28bc6",
   "metadata": {},
   "outputs": [
    {
     "name": "stdout",
     "output_type": "stream",
     "text": [
      "['1', '2', '3']\n"
     ]
    }
   ],
   "source": [
    "base['profesor'] = base['profesor'].astype(str) #´Primero transformamos el tipo de la columna del número de los profesores\n",
    "profesores = list(base[\"profesor\"].unique())\n",
    "print(profesores)"
   ]
  },
  {
   "cell_type": "markdown",
   "id": "8a903618-52d9-4dd1-bc61-5414b9fb035a",
   "metadata": {},
   "source": [
    "# Paso 4: Creación de funciones.\n",
    "\n",
    "Para llevar a cabo nuestro propósito necesitamos crear un conjunto de funciones que ejecuten cada uno de los pasos para llegaar a la meta. Para crear estas funciones primero importamos las librerias que necesitamos."
   ]
  },
  {
   "cell_type": "code",
   "execution_count": null,
   "id": "f9a62c6e-c869-4220-bd3d-38a7802b767c",
   "metadata": {},
   "outputs": [],
   "source": [
    "from docx import Document #Para manejar los archivos word\n",
    "import os \n",
    "from docx2pdf import convert #Para transformar archvios word a PDF\n",
    "from pypdf import PdfWriter #Para modificar archivos PDF, como por ejemplo unirlos."
   ]
  },
  {
   "cell_type": "markdown",
   "id": "1550d2d6-a129-472e-b642-9b36ae93aeb2",
   "metadata": {},
   "source": [
    "Y comenzamos a crear las funciones"
   ]
  },
  {
   "cell_type": "markdown",
   "id": "afc08461-8477-48af-a583-0007b33cf085",
   "metadata": {},
   "source": [
    "## Función pára llenar el documento word."
   ]
  },
  {
   "cell_type": "code",
   "execution_count": 15,
   "id": "f788dd11-1bd6-4e81-a783-8e3d9a23b0f8",
   "metadata": {},
   "outputs": [],
   "source": [
    "def reemplazar_campos (doc, datos_fila):\n",
    "    for p in doc.paragraphs:\n",
    "        for key, value in datos_fila.items():\n",
    "            marcador = f\"{{{{{key}}}}}\" \n",
    "            if marcador in p.text:\n",
    "                p.text = p.text.replace(marcador, str(value))\n",
    "    return doc"
   ]
  },
  {
   "cell_type": "markdown",
   "id": "39e4b239-3e53-4370-a426-a07e2acc758d",
   "metadata": {},
   "source": [
    "Notece la línea 5, pues hará que el márcador será igual a la columna con el mismo nombre. Es decir, el marcador de laa plantilla se llenará con el dato de la columna correspondiente."
   ]
  },
  {
   "cell_type": "markdown",
   "id": "a0ff5187-c184-4f21-9ff2-60439192d60c",
   "metadata": {},
   "source": [
    "## Función para generar los examenes individuales."
   ]
  },
  {
   "cell_type": "code",
   "execution_count": 19,
   "id": "a1f6dfe6-337a-4807-b51c-bf9f00ff58b2",
   "metadata": {},
   "outputs": [],
   "source": [
    "def generar_exmenes_individuales (plantilla_path, datos, carpeta_destino):\n",
    "    df = datos\n",
    "    os.makedirs(carpeta_destino, exist_ok= True)\n",
    "    for _, fila in df.iterrows():\n",
    "        doc_temp = Document(plantilla_path)\n",
    "        doc_temp = reemplazar_campos(doc_temp, fila)\n",
    "        nombre_archivo = f\"{fila['lastname'].replace(' ','_')}.docx\"\n",
    "        ruta_salida = os.path.join(carpeta_destino, nombre_archivo)\n",
    "        doc_temp.save(ruta_salida)\n",
    "        print(f\"🍀🙊🙊Examenes automaticos guardados con éxito en {ruta_salida}🙊🙊🍀\")"
   ]
  },
  {
   "cell_type": "markdown",
   "id": "f789e935-ebd9-4714-89e6-8ecba3fc2ac5",
   "metadata": {},
   "source": [
    "## Función para unir los diferentes PDF's en un sólo archivo"
   ]
  },
  {
   "cell_type": "code",
   "execution_count": 18,
   "id": "77278176-50f8-4ee5-8176-19d6dcefd9d4",
   "metadata": {},
   "outputs": [],
   "source": [
    "def unir_pdfs (carpeta, archivo_salida):\n",
    "    merger = PdfWriter()\n",
    "    archivos_pdf = [f for f in os.listdir(carpeta)  if \n",
    "f.lower().endswith(\".pdf\")]\n",
    "    archivos_pdf.sort()\n",
    "    for pdf in archivos_pdf:\n",
    "        ruta_pdf = os.path.join(carpeta,pdf)\n",
    "        merger.append(ruta_pdf)\n",
    "        print(f\"🎉 Añadido: {pdf}\")\n",
    "        merger.write(archivo_salida)\n",
    "        merger.close()"
   ]
  },
  {
   "cell_type": "markdown",
   "id": "c20fa63f-cf4e-464d-b4de-814840b32677",
   "metadata": {},
   "source": [
    "# Paso 5: Iteramos sobre cada una de las observaciones de la base de datos."
   ]
  },
  {
   "cell_type": "code",
   "execution_count": null,
   "id": "4772e8c0-f7a0-4ed6-9ba3-fc30823f5567",
   "metadata": {},
   "outputs": [],
   "source": [
    "for profesor in profesores:\n",
    "    ruta_salida = fr\"C:\\Users\\javal\\OneDrive\\Desktop\\Portafolio 9\\02_llenado_automático_documentos\\examenes\\{profesor}\"\n",
    "    base2 = base[base[\"profesor\"]== f\"{profesor}\"]\n",
    "    generar_exmenes_individuales(\n",
    "        plantilla_path= plantilla,\n",
    "        datos = base2,\n",
    "        carpeta_destino= ruta_salida)\n",
    "    convert(ruta_salida,ruta_salida)\n",
    "    ruta_pdf_completo = fr\"C:\\Users\\javal\\OneDrive\\Desktop\\Portafolio 9\\02_llenado_automático_documentos\\examenes\\examenes_completos\\{profesor}.pdf\"\n",
    "    unir_pdfs(ruta_salida, ruta_pdf_completo)\n"
   ]
  },
  {
   "cell_type": "markdown",
   "id": "64406378-6306-430c-8906-e024bb977eb0",
   "metadata": {},
   "source": [
    "Las cosas de vital importancia a tener en cuenta para el paso 5 son:\n",
    "\n",
    "- Establecer bien las rutas de salida de cada documento de cada alumno.\n",
    "- Establecer bien la ruta de salidad del pdf completo. Recuerda que cada PDF completo equivale a todos los examene de un sólo profesor.\n",
    "- En la tercera línea crear una base nueva, dicha base se actualizará con cada iteración, y garantizará que el proceso se haga para cada profesor. Por eso es importante que en el argumento \"datos\" de la función generar_exmenes (línea 5) corresponda a la nueva base\n"
   ]
  },
  {
   "cell_type": "markdown",
   "id": "4b53569f-11a9-4ae9-b2c1-0ebd9f550d1e",
   "metadata": {},
   "source": [
    "# Resultados"
   ]
  },
  {
   "cell_type": "markdown",
   "id": "9b9c658c-1c2e-40cc-af45-b496736b3433",
   "metadata": {},
   "source": [
    "Para este punto, lo resultados de nuestro código serán los siguientes. Primero, una serie de carpetas, una por cada uno de los profesores. En este caso, sólo tres (profesor 1, 2, y 3). "
   ]
  },
  {
   "cell_type": "markdown",
   "id": "fe48f556-fdb2-4c95-988c-6ca72fa84022",
   "metadata": {},
   "source": [
    "<div style=\"text-align: center;\">\n",
    "  <p><strong>Imagen 2: Carpetas de profesores</strong></p>\n",
    "  <img src=\"imagenes/02_carpetas.png\" width=\"70%\">\n",
    "  <p><em>Fuente: Elaboración propia</em></p>\n",
    "</div>"
   ]
  },
  {
   "cell_type": "markdown",
   "id": "8dbd2f12-097c-4cb4-83f8-e432abb694e4",
   "metadata": {},
   "source": [
    "En segundo lugar, dentro de las carpetas se encontrarán todos los examenes individuales de los alumnos, tanto en formato word, como en formato PDF. "
   ]
  },
  {
   "cell_type": "markdown",
   "id": "3c9f71f3-4a52-4c9b-a529-d23d52dd5720",
   "metadata": {},
   "source": [
    "<div style=\"text-align: center;\">\n",
    "  <p><strong>Imagen 3: Archivos de examenes individuales</strong></p>\n",
    "  <img src=\"imagenes/03_examenes individuales.png\" width=\"70%\">\n",
    "  <p><em>Fuente: Elaboración propia</em></p>\n",
    "</div>"
   ]
  },
  {
   "cell_type": "markdown",
   "id": "fa24b541-830f-435e-9c63-d95c81a7ed08",
   "metadata": {},
   "source": [
    "A continuación, muestro el contenido de uno de los examenes. Por favor note como los datos corresponden al alumno en cuestión. "
   ]
  },
  {
   "cell_type": "markdown",
   "id": "84232c3e-f6de-46f6-b0ed-e37e7a72be33",
   "metadata": {},
   "source": [
    "<div style=\"text-align: center;\">\n",
    "  <p><strong>Imagen 4: Ejemplo de examen individual</strong></p>\n",
    "  <img src=\"imagenes/04_ejemplo_examen.png\" width=\"70%\">\n",
    "  <p><em>Fuente: Elaboración propia</em></p>\n",
    "</div>"
   ]
  },
  {
   "cell_type": "markdown",
   "id": "3919ca82-20ae-42a4-b32d-85282e9e8da1",
   "metadata": {},
   "source": [
    "Finalmente, obtenemos un archivo donde todos los examenes de un sólo profesor se unen en un sólo archivo. Como sólo tenemos tres profesores, sólo tenemos 3 archivos. Por favor nota que el nombre de los archivos corresponde con el número del profesor. Esto para identificar correctamente cada archivo. "
   ]
  },
  {
   "cell_type": "markdown",
   "id": "039a6048-1414-4145-9184-1016b7bc1c37",
   "metadata": {},
   "source": [
    "<div style=\"text-align: center;\">\n",
    "  <p><strong>Imagen 5: Archivos de examenes individuales</strong></p>\n",
    "  <img src=\"imagenes/05_examenes_agrupados.png\" width=\"70%\">\n",
    "  <p><em>Fuente: Elaboración propia</em></p>\n",
    "</div>"
   ]
  },
  {
   "cell_type": "markdown",
   "id": "b87c51cb-f1e3-4b81-926f-2aaeefbe458c",
   "metadata": {},
   "source": [
    "El archivo de cada profesor quedaría de la siguiente manera. Por favor, nota que el número de páginas del archivo es de 266, pues este archvio agrupado contiene todos los examenes de ese profesor."
   ]
  },
  {
   "cell_type": "markdown",
   "id": "4f44441f-d94b-44ae-89bb-7d4ff076045e",
   "metadata": {},
   "source": [
    "<div style=\"text-align: center;\">\n",
    "  <p><strong>Imagen 6: Archivos de examenes individuales</strong></p>\n",
    "  <img src=\"imagenes/06_archivo_profesor.png\" width=\"70%\">\n",
    "  <p><em>Fuente: Elaboración propia</em></p>\n",
    "</div>"
   ]
  },
  {
   "cell_type": "markdown",
   "id": "3290a6cd-5a19-462e-a574-d8aa6dce5053",
   "metadata": {},
   "source": [
    "# Conclusiones. "
   ]
  },
  {
   "cell_type": "markdown",
   "id": "ac3bf1f9-bdda-4fee-96c6-7609a408b876",
   "metadata": {},
   "source": [
    "Como se mencionó al principio del documento, este código, u otros similares se pueden ocupar para hacer el llenado automático de diversos documentos a partir de una base de datos. Dependiendo de la plantilla y de la base que tengamos se pueden personalizar básicamente cualquier aspecto de un documento. Lo cual, podría mejorar la calidad de nuestro trabajo, y producir insumos personalizados de manera masiva, sólo limitados por nuestros propios recursos tecnológicos. "
   ]
  },
  {
   "cell_type": "code",
   "execution_count": null,
   "id": "44052932-a316-4cdd-83e2-2f6359e2ee67",
   "metadata": {},
   "outputs": [],
   "source": []
  }
 ],
 "metadata": {
  "kernelspec": {
   "display_name": "Python 3 (ipykernel)",
   "language": "python",
   "name": "python3"
  },
  "language_info": {
   "codemirror_mode": {
    "name": "ipython",
    "version": 3
   },
   "file_extension": ".py",
   "mimetype": "text/x-python",
   "name": "python",
   "nbconvert_exporter": "python",
   "pygments_lexer": "ipython3",
   "version": "3.11.7"
  }
 },
 "nbformat": 4,
 "nbformat_minor": 5
}
